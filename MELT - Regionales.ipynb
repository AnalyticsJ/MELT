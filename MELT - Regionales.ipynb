{
 "cells": [
  {
   "cell_type": "markdown",
   "id": "031ec18f",
   "metadata": {},
   "source": [
    "# Transformación de Base de Datos\n",
    "\n",
    "## Método: Cols To Rows - Melt Function"
   ]
  },
  {
   "cell_type": "markdown",
   "id": "2fc903a5",
   "metadata": {},
   "source": [
    "### Importar Librerias"
   ]
  },
  {
   "cell_type": "code",
   "execution_count": 1,
   "id": "0d2d49c5",
   "metadata": {},
   "outputs": [],
   "source": [
    "import pandas as pd"
   ]
  },
  {
   "cell_type": "markdown",
   "id": "efdee0ff",
   "metadata": {},
   "source": [
    "### Importar Archivos"
   ]
  },
  {
   "cell_type": "code",
   "execution_count": 2,
   "id": "14768524",
   "metadata": {},
   "outputs": [],
   "source": [
    "df1 = pd.read_excel('Ejemplo_Consolidado_Regionales.xlsx', sheet_name = 'BASE_CONSOLIDADA_SECTORIAL')"
   ]
  },
  {
   "cell_type": "markdown",
   "id": "ae31ab46",
   "metadata": {},
   "source": [
    "### Lista de Variables"
   ]
  },
  {
   "cell_type": "code",
   "execution_count": 3,
   "id": "ce805fe5",
   "metadata": {},
   "outputs": [],
   "source": [
    "cols1 = df1.columns.tolist()"
   ]
  },
  {
   "cell_type": "code",
   "execution_count": 4,
   "id": "f2472c19",
   "metadata": {},
   "outputs": [
    {
     "data": {
      "text/plain": [
       "['Tipo de plan',\n",
       " 'Cadena',\n",
       " 'Sector ',\n",
       " 'Subsector ',\n",
       " 'Eje',\n",
       " 'HUB',\n",
       " 'Mercado',\n",
       " 'Modelo de Negocio\\n(Aplica para sistema moda)',\n",
       " 'Jugada OFICOM',\n",
       " 'KPI OFICOM (texto)',\n",
       " 'Métrica KPI OFICOM (número)',\n",
       " 'Jugada Colombia',\n",
       " 'KPI Colombia (texto)',\n",
       " 'Métrica KPI Colombia (número)',\n",
       " 'Pilar',\n",
       " 'Acciones Generales \\n(AG) (texto completo)',\n",
       " 'Indicador AG (texto)',\n",
       " 'Métrica Indicador AG (obligatorio número)',\n",
       " 'Acciones específicas la OFICOM',\n",
       " 'Acciones específicas desde la Gerencia',\n",
       " 'Acciones específicas desde proyectos para la internacionalizacion',\n",
       " 'Acciones específicas desde proyectos para futuros exportadores',\n",
       " 'Acciones específicas desde la VEIN',\n",
       " 'Acciones específicas desde Inversión',\n",
       " 'Acciones específicas desde Mercadeo (Incluye Marca País y Macrorruedas)',\n",
       " 'Acciones específicas desde Comunicaciones',\n",
       " 'Barranquilla',\n",
       " 'Bogotá',\n",
       " 'Bucaramanga',\n",
       " 'Cartagena',\n",
       " 'Manizales',\n",
       " 'Medellín',\n",
       " 'Norte de Santander',\n",
       " 'Pereira',\n",
       " 'Suroccidente']"
      ]
     },
     "execution_count": 4,
     "metadata": {},
     "output_type": "execute_result"
    }
   ],
   "source": [
    "cols1"
   ]
  },
  {
   "cell_type": "markdown",
   "id": "bc215bad",
   "metadata": {},
   "source": [
    "### Método MELT"
   ]
  },
  {
   "cell_type": "code",
   "execution_count": 5,
   "id": "03776e7d",
   "metadata": {},
   "outputs": [],
   "source": [
    "df1=pd.melt(df1, id_vars=['Tipo de plan',\n",
    " 'Cadena',\n",
    " 'Sector ',\n",
    " 'Subsector ',\n",
    " 'Eje',\n",
    " 'HUB',\n",
    " 'Mercado',\n",
    " 'Modelo de Negocio\\n(Aplica para sistema moda)',\n",
    " 'Jugada OFICOM',\n",
    " 'KPI OFICOM (texto)',\n",
    " 'Métrica KPI OFICOM (número)',\n",
    " 'Jugada Colombia',\n",
    " 'KPI Colombia (texto)',\n",
    " 'Métrica KPI Colombia (número)',\n",
    " 'Pilar',\n",
    " 'Acciones Generales \\n(AG) (texto completo)',\n",
    " 'Indicador AG (texto)',\n",
    " 'Métrica Indicador AG (obligatorio número)',\n",
    " 'Acciones específicas la OFICOM',\n",
    " 'Acciones específicas desde la Gerencia',\n",
    " 'Acciones específicas desde proyectos para la internacionalizacion',\n",
    " 'Acciones específicas desde proyectos para futuros exportadores',\n",
    " 'Acciones específicas desde la VEIN',\n",
    " 'Acciones específicas desde Inversión',\n",
    " 'Acciones específicas desde Mercadeo (Incluye Marca País y Macrorruedas)',\n",
    " 'Acciones específicas desde Comunicaciones'], value_vars=['Barranquilla',\n",
    " 'Bogotá',\n",
    " 'Bucaramanga',\n",
    " 'Cartagena',\n",
    " 'Manizales',\n",
    " 'Medellín',\n",
    " 'Norte de Santander',\n",
    " 'Pereira',\n",
    " 'Suroccidente'])"
   ]
  },
  {
   "cell_type": "markdown",
   "id": "d67de080",
   "metadata": {},
   "source": [
    "### Renombrar Columnas"
   ]
  },
  {
   "cell_type": "code",
   "execution_count": 6,
   "id": "b8cb7439",
   "metadata": {},
   "outputs": [],
   "source": [
    "df1 = df1.rename(columns={'variable': 'OFIREG', 'value': 'Acciones específicas desde OFIREG'})"
   ]
  },
  {
   "cell_type": "markdown",
   "id": "f91fbe8a",
   "metadata": {},
   "source": [
    "### Exportar Datos"
   ]
  },
  {
   "cell_type": "code",
   "execution_count": 7,
   "id": "e910c149",
   "metadata": {},
   "outputs": [],
   "source": [
    "df1.to_excel('Ejemplo_Consolidado_Regionales_POST.xlsx')"
   ]
  }
 ],
 "metadata": {
  "kernelspec": {
   "display_name": "Python 3",
   "language": "python",
   "name": "python3"
  },
  "language_info": {
   "codemirror_mode": {
    "name": "ipython",
    "version": 3
   },
   "file_extension": ".py",
   "mimetype": "text/x-python",
   "name": "python",
   "nbconvert_exporter": "python",
   "pygments_lexer": "ipython3",
   "version": "3.8.8"
  }
 },
 "nbformat": 4,
 "nbformat_minor": 5
}
